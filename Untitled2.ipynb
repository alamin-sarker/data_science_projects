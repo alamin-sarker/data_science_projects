{
 "cells": [
  {
   "cell_type": "code",
   "execution_count": 1,
   "metadata": {},
   "outputs": [],
   "source": [
    "import pandas as pd\n",
    "import numpy as np\n",
    "from sklearn import preprocessing\n",
    "from sklearn.model_selection import train_test_split\n",
    "from sklearn.ensemble import RandomForestRegressor\n",
    "from sklearn.metrics import mean_squared_error\n",
    "from xgboost import XGBRegressor"
   ]
  },
  {
   "cell_type": "code",
   "execution_count": 2,
   "metadata": {},
   "outputs": [],
   "source": [
    "df = pd.read_csv(\"/Users/alaminsarker/Documents/data_science/30days_of_ML/train_folds.csv\")\n",
    "df_test = pd.read_csv(\"/Users/alaminsarker/Documents/data_science/30days_of_ML/test.csv\")\n",
    "sample_submission = pd.read_csv(\"/Users/alaminsarker/Documents/data_science/30days_of_ML/sample_submission.csv\")\n"
   ]
  },
  {
   "cell_type": "code",
   "execution_count": 3,
   "metadata": {},
   "outputs": [],
   "source": [
    "useful_features = [c for c in df.columns if c not in (\"id\", \"target\", \"kfold\")]\n",
    "object_cols = [col for col in useful_features if col.startswith(\"cat\")]\n",
    "df_test = df_test[useful_features]"
   ]
  },
  {
   "cell_type": "code",
   "execution_count": 5,
   "metadata": {},
   "outputs": [
    {
     "name": "stdout",
     "output_type": "stream",
     "text": [
      "[0]\tvalidation_0-rmse:7.17497\n",
      "Will train until validation_0-rmse hasn't improved in 300 rounds.\n",
      "[1000]\tvalidation_0-rmse:0.718011\n",
      "[2000]\tvalidation_0-rmse:0.716057\n",
      "Stopping. Best iteration:\n",
      "[2376]\tvalidation_0-rmse:0.715861\n",
      "\n",
      "0 0.5124569370913494\n",
      "[0]\tvalidation_0-rmse:7.1715\n",
      "Will train until validation_0-rmse hasn't improved in 300 rounds.\n",
      "[1000]\tvalidation_0-rmse:0.717907\n",
      "[2000]\tvalidation_0-rmse:0.716199\n",
      "Stopping. Best iteration:\n",
      "[2500]\tvalidation_0-rmse:0.715998\n",
      "\n",
      "1 0.5126538725199064\n",
      "[0]\tvalidation_0-rmse:7.16938\n",
      "Will train until validation_0-rmse hasn't improved in 300 rounds.\n",
      "[1000]\tvalidation_0-rmse:0.719595\n",
      "[2000]\tvalidation_0-rmse:0.717894\n",
      "Stopping. Best iteration:\n",
      "[2250]\tvalidation_0-rmse:0.71782\n",
      "\n",
      "2 0.5152655529655796\n",
      "[0]\tvalidation_0-rmse:7.17172\n",
      "Will train until validation_0-rmse hasn't improved in 300 rounds.\n",
      "[1000]\tvalidation_0-rmse:0.719603\n",
      "[2000]\tvalidation_0-rmse:0.717845\n",
      "Stopping. Best iteration:\n",
      "[2480]\tvalidation_0-rmse:0.71774\n",
      "\n",
      "3 0.5151505747796538\n",
      "[0]\tvalidation_0-rmse:7.1771\n",
      "Will train until validation_0-rmse hasn't improved in 300 rounds.\n",
      "[1000]\tvalidation_0-rmse:0.7181\n",
      "[2000]\tvalidation_0-rmse:0.716244\n",
      "[3000]\tvalidation_0-rmse:0.716047\n",
      "Stopping. Best iteration:\n",
      "[2750]\tvalidation_0-rmse:0.715981\n",
      "\n",
      "4 0.5126274162143241\n",
      "0.5136308707141627 0.001290058375839299\n"
     ]
    }
   ],
   "source": [
    "final_predictions = []\n",
    "scores = []\n",
    "for fold in range(5):\n",
    "    xtrain =  df[df.kfold != fold].reset_index(drop=True)\n",
    "    xvalid = df[df.kfold == fold].reset_index(drop=True)\n",
    "    xtest = df_test.copy()\n",
    "\n",
    "    ytrain = xtrain.target\n",
    "    yvalid = xvalid.target\n",
    "    \n",
    "    xtrain = xtrain[useful_features]\n",
    "    xvalid = xvalid[useful_features]\n",
    "    \n",
    "    ordinal_encoder = preprocessing.OrdinalEncoder()\n",
    "    xtrain[object_cols] = ordinal_encoder.fit_transform(xtrain[object_cols])\n",
    "    xvalid[object_cols] = ordinal_encoder.transform(xvalid[object_cols])\n",
    "    xtest[object_cols] = ordinal_encoder.transform(xtest[object_cols])\n",
    "    \n",
    "    params = {'learning_rate': 0.07853392035787837, 'reg_lambda': 1.7549293092194938e-05, \n",
    "              'reg_alpha': 14.68267919457715, 'subsample': 0.8031450486786944, \n",
    "              'colsample_bytree': 0.170759104940733, 'max_depth': 3}\n",
    "    \n",
    "    model = XGBRegressor(\n",
    "        random_state=0, \n",
    "        #tree_method='gpu_hist',\n",
    "        #gpu_id=0,\n",
    "        #predictor=\"gpu_predictor\",\n",
    "        n_estimators=5000,\n",
    "        **params\n",
    "    )\n",
    "    model.fit(xtrain, ytrain, early_stopping_rounds=300, eval_set=[(xvalid, yvalid)], verbose=1000)\n",
    "    preds_valid = model.predict(xvalid)\n",
    "    test_preds = model.predict(xtest)\n",
    "    final_predictions.append(test_preds)\n",
    "    rmse = mean_squared_error(yvalid, preds_valid)\n",
    "    print(fold, rmse)\n",
    "    scores.append(rmse)\n",
    "\n",
    "print(np.mean(scores), np.std(scores))"
   ]
  },
  {
   "cell_type": "code",
   "execution_count": null,
   "metadata": {},
   "outputs": [],
   "source": [
    "\n"
   ]
  },
  {
   "cell_type": "code",
   "execution_count": null,
   "metadata": {},
   "outputs": [],
   "source": [
    "\n",
    "\n"
   ]
  }
 ],
 "metadata": {
  "kernelspec": {
   "display_name": "Python 3.6 (tensorflow)",
   "language": "python",
   "name": "tensorflow"
  },
  "language_info": {
   "codemirror_mode": {
    "name": "ipython",
    "version": 3
   },
   "file_extension": ".py",
   "mimetype": "text/x-python",
   "name": "python",
   "nbconvert_exporter": "python",
   "pygments_lexer": "ipython3",
   "version": "3.7.4"
  }
 },
 "nbformat": 4,
 "nbformat_minor": 4
}
